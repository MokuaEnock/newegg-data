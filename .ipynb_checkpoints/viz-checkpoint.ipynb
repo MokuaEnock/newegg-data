{
 "cells": [
  {
   "cell_type": "code",
   "execution_count": null,
   "metadata": {},
   "outputs": [
    {
     "name": "stdout",
     "output_type": "stream",
     "text": [
      "Defaulting to user installation because normal site-packages is not writeable\n",
      "Collecting torch\n",
      "  Downloading torch-1.13.0-cp310-cp310-manylinux1_x86_64.whl (890.1 MB)\n",
      "\u001b[2K     \u001b[38;2;249;38;114m━━━━\u001b[0m\u001b[38;5;237m╺\u001b[0m\u001b[38;5;237m━━━━━━━━━━━━━━━━━━━━━━━━━━━━━━━━━━━\u001b[0m \u001b[32m95.0/890.1 MB\u001b[0m \u001b[31m8.5 MB/s\u001b[0m eta \u001b[36m0:01:34\u001b[0m:48\u001b[0m"
     ]
    }
   ],
   "source": [
    "pip install torch"
   ]
  },
  {
   "cell_type": "code",
   "execution_count": 1,
   "metadata": {},
   "outputs": [],
   "source": [
    "#importing modules\n",
    "import pandas as pd\n",
    "import numpy as np \n",
    "from wordcloud import WordCloud\n",
    "import matplotlib.pyplot as plt\n",
    "import seaborn as sb\n",
    "import missingno as msno"
   ]
  },
  {
   "cell_type": "code",
   "execution_count": 2,
   "metadata": {},
   "outputs": [],
   "source": [
    "#importing data \n",
    "df_master = pd.read_csv(\"data.csv\")\n",
    "#making a copy of the data\n",
    "df = df_master.copy()"
   ]
  },
  {
   "cell_type": "code",
   "execution_count": 3,
   "metadata": {},
   "outputs": [
    {
     "data": {
      "text/html": [
       "<div>\n",
       "<style scoped>\n",
       "    .dataframe tbody tr th:only-of-type {\n",
       "        vertical-align: middle;\n",
       "    }\n",
       "\n",
       "    .dataframe tbody tr th {\n",
       "        vertical-align: top;\n",
       "    }\n",
       "\n",
       "    .dataframe thead th {\n",
       "        text-align: right;\n",
       "    }\n",
       "</style>\n",
       "<table border=\"1\" class=\"dataframe\">\n",
       "  <thead>\n",
       "    <tr style=\"text-align: right;\">\n",
       "      <th></th>\n",
       "      <th>Unnamed: 0</th>\n",
       "      <th>flags-body</th>\n",
       "      <th>item-title</th>\n",
       "      <th>item-promo</th>\n",
       "      <th>item-features</th>\n",
       "      <th>item-price</th>\n",
       "      <th>price-ship</th>\n",
       "      <th>price-offers</th>\n",
       "    </tr>\n",
       "  </thead>\n",
       "  <tbody>\n",
       "    <tr>\n",
       "      <th>0</th>\n",
       "      <td>0</td>\n",
       "      <td>Lowest price</td>\n",
       "      <td>Acer Laptop Aspire 5 Intel Core i7 12th Gen 12...</td>\n",
       "      <td>Eligible for Black Friday Price Protection, Se...</td>\n",
       "      <td>{'Type': ' Home / Personal', 'Resolution': ' 1...</td>\n",
       "      <td>599.99</td>\n",
       "      <td>Free Shipping</td>\n",
       "      <td>(2 Offers)</td>\n",
       "    </tr>\n",
       "    <tr>\n",
       "      <th>1</th>\n",
       "      <td>1</td>\n",
       "      <td>None</td>\n",
       "      <td>MSI Laptop Intel Core i7 12th Gen 1280P (1.80G...</td>\n",
       "      <td>None</td>\n",
       "      <td>{'Type': ' Work / Business', 'Resolution': ' 1...</td>\n",
       "      <td>649.00</td>\n",
       "      <td>Free Shipping</td>\n",
       "      <td>(2 Offers)</td>\n",
       "    </tr>\n",
       "    <tr>\n",
       "      <th>2</th>\n",
       "      <td>2</td>\n",
       "      <td>None</td>\n",
       "      <td>Lenovo IdeaPad Slim 7 Carbon 14\" 2.8K OLED Tou...</td>\n",
       "      <td>Eligible for Black Friday Price Protection, Se...</td>\n",
       "      <td>{'Type': ' Home / Personal', 'Resolution': ' 2...</td>\n",
       "      <td>799.99</td>\n",
       "      <td>Free Shipping</td>\n",
       "      <td>None</td>\n",
       "    </tr>\n",
       "    <tr>\n",
       "      <th>3</th>\n",
       "      <td>3</td>\n",
       "      <td>None</td>\n",
       "      <td>ASUS VivoBook 16X OLED Laptop, 16\" 4K OLED 16:...</td>\n",
       "      <td>Eligible for Black Friday Price Protection, Se...</td>\n",
       "      <td>{'Type': ' Content Creation / Home / Personal'...</td>\n",
       "      <td>849.99</td>\n",
       "      <td>Free Shipping</td>\n",
       "      <td>None</td>\n",
       "    </tr>\n",
       "    <tr>\n",
       "      <th>4</th>\n",
       "      <td>4</td>\n",
       "      <td>None</td>\n",
       "      <td>Acer Laptop Aspire 5 Intel Core i5 11th Gen 11...</td>\n",
       "      <td>None</td>\n",
       "      <td>{'Type': ' Home / Personal', 'Resolution': ' 1...</td>\n",
       "      <td>499.99</td>\n",
       "      <td>Free Shipping</td>\n",
       "      <td>(4 Offers)</td>\n",
       "    </tr>\n",
       "    <tr>\n",
       "      <th>5</th>\n",
       "      <td>5</td>\n",
       "      <td>None</td>\n",
       "      <td>MSI Laptop Modern 15 AMD Ryzen 5 5000 Series 5...</td>\n",
       "      <td>Eligible for Black Friday Price Protection, Se...</td>\n",
       "      <td>{'Type': ' Work / Business', 'Resolution': ' 1...</td>\n",
       "      <td>449.00</td>\n",
       "      <td>Free Shipping</td>\n",
       "      <td>(2 Offers)</td>\n",
       "    </tr>\n",
       "    <tr>\n",
       "      <th>6</th>\n",
       "      <td>6</td>\n",
       "      <td>Lowest price</td>\n",
       "      <td>Acer Laptop Aspire 5 AMD Ryzen 7 5000 Series 5...</td>\n",
       "      <td>Eligible for Black Friday Price Protection, Se...</td>\n",
       "      <td>{'Type': ' Home / Personal', 'Resolution': ' 1...</td>\n",
       "      <td>549.99</td>\n",
       "      <td>Free Shipping</td>\n",
       "      <td>(10 Offers)</td>\n",
       "    </tr>\n",
       "    <tr>\n",
       "      <th>7</th>\n",
       "      <td>7</td>\n",
       "      <td>None</td>\n",
       "      <td>ASUS ZenBook 13 Ultra-Slim Laptop, 13.3\" OLED ...</td>\n",
       "      <td>None</td>\n",
       "      <td>{'Type': ' Home / Personal', 'Resolution': ' 1...</td>\n",
       "      <td>679.99</td>\n",
       "      <td>Free Shipping</td>\n",
       "      <td>None</td>\n",
       "    </tr>\n",
       "    <tr>\n",
       "      <th>8</th>\n",
       "      <td>8</td>\n",
       "      <td>None</td>\n",
       "      <td>Acer Swift 3 Intel Evo Thin &amp; Light Laptop, 13...</td>\n",
       "      <td>None</td>\n",
       "      <td>{'Type': ' Home / Personal', 'Resolution': ' 2...</td>\n",
       "      <td>449.99</td>\n",
       "      <td>Free Shipping</td>\n",
       "      <td>(3 Offers)</td>\n",
       "    </tr>\n",
       "    <tr>\n",
       "      <th>9</th>\n",
       "      <td>9</td>\n",
       "      <td>Lowest price</td>\n",
       "      <td>Dell Latitude 3000 3420 14\" Notebook - HD - 13...</td>\n",
       "      <td>None</td>\n",
       "      <td>{'Type': ' Work / Business', 'Resolution': ' 1...</td>\n",
       "      <td>599.99</td>\n",
       "      <td>Free Shipping</td>\n",
       "      <td>(2 Offers)</td>\n",
       "    </tr>\n",
       "  </tbody>\n",
       "</table>\n",
       "</div>"
      ],
      "text/plain": [
       "   Unnamed: 0    flags-body  \\\n",
       "0           0  Lowest price   \n",
       "1           1          None   \n",
       "2           2          None   \n",
       "3           3          None   \n",
       "4           4          None   \n",
       "5           5          None   \n",
       "6           6  Lowest price   \n",
       "7           7          None   \n",
       "8           8          None   \n",
       "9           9  Lowest price   \n",
       "\n",
       "                                          item-title  \\\n",
       "0  Acer Laptop Aspire 5 Intel Core i7 12th Gen 12...   \n",
       "1  MSI Laptop Intel Core i7 12th Gen 1280P (1.80G...   \n",
       "2  Lenovo IdeaPad Slim 7 Carbon 14\" 2.8K OLED Tou...   \n",
       "3  ASUS VivoBook 16X OLED Laptop, 16\" 4K OLED 16:...   \n",
       "4  Acer Laptop Aspire 5 Intel Core i5 11th Gen 11...   \n",
       "5  MSI Laptop Modern 15 AMD Ryzen 5 5000 Series 5...   \n",
       "6  Acer Laptop Aspire 5 AMD Ryzen 7 5000 Series 5...   \n",
       "7  ASUS ZenBook 13 Ultra-Slim Laptop, 13.3\" OLED ...   \n",
       "8  Acer Swift 3 Intel Evo Thin & Light Laptop, 13...   \n",
       "9  Dell Latitude 3000 3420 14\" Notebook - HD - 13...   \n",
       "\n",
       "                                          item-promo  \\\n",
       "0  Eligible for Black Friday Price Protection, Se...   \n",
       "1                                               None   \n",
       "2  Eligible for Black Friday Price Protection, Se...   \n",
       "3  Eligible for Black Friday Price Protection, Se...   \n",
       "4                                               None   \n",
       "5  Eligible for Black Friday Price Protection, Se...   \n",
       "6  Eligible for Black Friday Price Protection, Se...   \n",
       "7                                               None   \n",
       "8                                               None   \n",
       "9                                               None   \n",
       "\n",
       "                                       item-features item-price  \\\n",
       "0  {'Type': ' Home / Personal', 'Resolution': ' 1...     599.99   \n",
       "1  {'Type': ' Work / Business', 'Resolution': ' 1...     649.00   \n",
       "2  {'Type': ' Home / Personal', 'Resolution': ' 2...     799.99   \n",
       "3  {'Type': ' Content Creation / Home / Personal'...     849.99   \n",
       "4  {'Type': ' Home / Personal', 'Resolution': ' 1...     499.99   \n",
       "5  {'Type': ' Work / Business', 'Resolution': ' 1...     449.00   \n",
       "6  {'Type': ' Home / Personal', 'Resolution': ' 1...     549.99   \n",
       "7  {'Type': ' Home / Personal', 'Resolution': ' 1...     679.99   \n",
       "8  {'Type': ' Home / Personal', 'Resolution': ' 2...     449.99   \n",
       "9  {'Type': ' Work / Business', 'Resolution': ' 1...     599.99   \n",
       "\n",
       "      price-ship price-offers  \n",
       "0  Free Shipping   (2 Offers)  \n",
       "1  Free Shipping   (2 Offers)  \n",
       "2  Free Shipping         None  \n",
       "3  Free Shipping         None  \n",
       "4  Free Shipping   (4 Offers)  \n",
       "5  Free Shipping   (2 Offers)  \n",
       "6  Free Shipping  (10 Offers)  \n",
       "7  Free Shipping         None  \n",
       "8  Free Shipping   (3 Offers)  \n",
       "9  Free Shipping   (2 Offers)  "
      ]
     },
     "execution_count": 3,
     "metadata": {},
     "output_type": "execute_result"
    }
   ],
   "source": [
    "df.head(10)"
   ]
  },
  {
   "cell_type": "code",
   "execution_count": 4,
   "metadata": {},
   "outputs": [
    {
     "data": {
      "text/plain": [
       "array(['Lowest price', 'None'], dtype=object)"
      ]
     },
     "execution_count": 4,
     "metadata": {},
     "output_type": "execute_result"
    }
   ],
   "source": [
    "df['flags-body'].unique()"
   ]
  },
  {
   "cell_type": "markdown",
   "metadata": {},
   "source": [
    "### Missing values"
   ]
  },
  {
   "cell_type": "code",
   "execution_count": 5,
   "metadata": {},
   "outputs": [
    {
     "data": {
      "text/plain": [
       "Unnamed: 0        0\n",
       "flags-body        0\n",
       "item-title        0\n",
       "item-promo        0\n",
       "item-features     0\n",
       "item-price       64\n",
       "price-ship        0\n",
       "price-offers      0\n",
       "dtype: int64"
      ]
     },
     "execution_count": 5,
     "metadata": {},
     "output_type": "execute_result"
    }
   ],
   "source": [
    "df.isnull().sum()"
   ]
  },
  {
   "cell_type": "code",
   "execution_count": 6,
   "metadata": {},
   "outputs": [
    {
     "data": {
      "image/png": "[encoded data removed]",
      "text/plain": [
       "<Figure size 1080x504 with 3 Axes>"
      ]
     },
     "metadata": {
      "needs_background": "light"
     },
     "output_type": "display_data"
    }
   ],
   "source": [
    "#visualizing the missing values.\n",
    "msno.bar(df, figsize=(15, 7), fontsize=12);"
   ]
  },
  {
   "cell_type": "code",
   "execution_count": 7,
   "metadata": {},
   "outputs": [
    {
     "data": {
      "image/png": "[encoded data removed]",
      "text/plain": [
       "<Figure size 1080x504 with 2 Axes>"
      ]
     },
     "metadata": {
      "needs_background": "light"
     },
     "output_type": "display_data"
    }
   ],
   "source": [
    "#visualizing the location\n",
    "msno.matrix(df, figsize=(15, 7), fontsize=12);"
   ]
  },
  {
   "cell_type": "markdown",
   "metadata": {},
   "source": [
    "We will fill this missing values by using the average price of the computer."
   ]
  },
  {
   "cell_type": "code",
   "execution_count": null,
   "metadata": {},
   "outputs": [],
   "source": []
  },
  {
   "cell_type": "code",
   "execution_count": null,
   "metadata": {},
   "outputs": [],
   "source": []
  }
 ],
 "metadata": {
  "kernelspec": {
   "display_name": "Python 3 (ipykernel)",
   "language": "python",
   "name": "python3"
  },
  "language_info": {
   "codemirror_mode": {
    "name": "ipython",
    "version": 3
   },
   "file_extension": ".py",
   "mimetype": "text/x-python",
   "name": "python",
   "nbconvert_exporter": "python",
   "pygments_lexer": "ipython3",
   "version": "3.10.6"
  }
 },
 "nbformat": 4,
 "nbformat_minor": 2
}
