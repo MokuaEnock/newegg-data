{
 "cells": [
  {
   "cell_type": "code",
   "execution_count": 1,
   "metadata": {},
   "outputs": [],
   "source": [
    "#import modules\n",
    "from bs4 import BeautifulSoup as bs\n",
    "import pandas as np\n",
    "import requests\n",
    "import unicodedata"
   ]
  },
  {
   "cell_type": "code",
   "execution_count": 2,
   "metadata": {},
   "outputs": [],
   "source": [
    "#sending get request\n",
    "url = \"https://www.newegg.com/Laptops-Notebooks/SubCategory/ID-32/Page-{2}?Tid=6740\"\n",
    "arr = []\n",
    "\n",
    "#creating for loop to get the data\n",
    "for i in range(1, 101):\n",
    "    x =f\"https://www.newegg.com/Laptops-Notebooks/SubCategory/ID-32/Page-{i}?Tid=6740\"\n",
    "    response = requests.get(url)\n",
    "    soup = bs(response.content, \"lxml\")  \n",
    "    div = soup.findAll(\"div\", class_=\"item-cell\")\n",
    "    for i in div:\n",
    "        arr.append(i)"
   ]
  },
  {
   "cell_type": "code",
   "execution_count": 3,
   "metadata": {},
   "outputs": [],
   "source": [
    "#creating functions to clean data\n",
    "\n",
    "# item-features\n",
    "def extractList(g):\n",
    "    k= {}\n",
    "    for i in g:\n",
    "        y = i.text.rsplit(\":\")\n",
    "        if len(y)>1:\n",
    "            k[y[0]]=y[1]\n",
    "    return k\n",
    "\n",
    "#price\n",
    "def priceCurrent(k):\n",
    "    l =unicodedata.normalize(\"NFKD\",k.rsplit(\"$\")[-1])\n",
    "    return l.rsplit(\" \")[0]\n",
    "\n",
    "\n",
    "#check for nonetype\n",
    "def isNone(g):\n",
    "    if g is None:\n",
    "        return \"None\"\n",
    "    else:\n",
    "        return g.text"
   ]
  },
  {
   "cell_type": "code",
   "execution_count": null,
   "metadata": {},
   "outputs": [],
   "source": []
  }
 ],
 "metadata": {
  "kernelspec": {
   "display_name": "Python 3 (ipykernel)",
   "language": "python",
   "name": "python3"
  },
  "language_info": {
   "codemirror_mode": {
    "name": "ipython",
    "version": 3
   },
   "file_extension": ".py",
   "mimetype": "text/x-python",
   "name": "python",
   "nbconvert_exporter": "python",
   "pygments_lexer": "ipython3",
   "version": "3.10.6"
  },
  "orig_nbformat": 4,
  "vscode": {
   "interpreter": {
    "hash": "31f2aee4e71d21fbe5cf8b01ff0e069b9275f58929596ceb00d14d90e3e16cd6"
   }
  }
 },
 "nbformat": 4,
 "nbformat_minor": 2
}
